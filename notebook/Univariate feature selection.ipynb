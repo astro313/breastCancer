{
 "cells": [
  {
   "cell_type": "markdown",
   "metadata": {},
   "source": [
    "# Introduction\n",
    "\n",
    "Perform Univariate feature selection"
   ]
  },
  {
   "cell_type": "markdown",
   "metadata": {},
   "source": [
    "### Imports\n",
    "Import libraries and write settings here."
   ]
  },
  {
   "cell_type": "code",
   "execution_count": 2,
   "metadata": {
    "ExecuteTime": {
     "end_time": "2020-06-26T05:24:11.374487Z",
     "start_time": "2020-06-26T05:24:11.111989Z"
    }
   },
   "outputs": [],
   "source": [
    "import matplotlib \n",
    "# Specify renderer\n",
    "# matplotlib.use('Agg')\n",
    "\n",
    "import warnings\n",
    "warnings.filterwarnings(\"ignore\")\n",
    "warnings.filterwarnings('ignore', category=FutureWarning)\n",
    "warnings.filterwarnings('ignore', category=DeprecationWarning)\n",
    "\n",
    "# Boiler-plate settings for producing pub-quality figures\n",
    "# 1 point = 1/72 inch\n",
    "from cycler import cycler\n",
    "matplotlib.rcParams['axes.prop_cycle'] = cycler(color='bgrcmyk')\n",
    "matplotlib.rcParams.update({'figure.figsize': (8, 5)    # inches\n",
    "                            , 'font.size': 22      # points\n",
    "                            , 'legend.fontsize': 16      # points\n",
    "                            , 'lines.linewidth': 1.5       # points\n",
    "                            , 'axes.linewidth': 1.5       # points\n",
    "                            , 'text.usetex': True    # Use LaTeX to layout text\n",
    "                            , 'font.family': \"serif\"  # Use serifed fonts\n",
    "                            , 'xtick.major.size': 10     # length, points\n",
    "                            , 'xtick.major.width': 1.5     # points\n",
    "                            , 'xtick.minor.size': 6     # length, points\n",
    "                            , 'xtick.minor.width': 1     # points\n",
    "                            , 'ytick.major.size': 10     # length, points\n",
    "                            , 'ytick.major.width': 1.5     # points\n",
    "                            , 'ytick.minor.size': 6     # length, points\n",
    "                            , \"xtick.minor.visible\": True\n",
    "                            , \"ytick.minor.visible\": True\n",
    "                            , 'font.weight': 'bold'\n",
    "                            , 'ytick.minor.width': 1     # points\n",
    "                            , 'font.serif': (\"Times\", \"Palatino\", \"Computer Modern Roman\", \"New Century Schoolbook\", \"Bookman\"), 'font.sans-serif': (\"Helvetica\", \"Avant Garde\", \"Computer Modern Sans serif\"), 'font.monospace': (\"Courier\", \"Computer Modern Typewriter\"), 'font.cursive': \"Zapf Chancery\"\n",
    "                            })\n",
    "\n",
    "\n",
    "import matplotlib.pyplot as plt\n",
    "%matplotlib inline\n",
    "%config InlineBackend.figure_format = 'retina'"
   ]
  },
  {
   "cell_type": "code",
   "execution_count": 3,
   "metadata": {
    "ExecuteTime": {
     "end_time": "2020-06-26T05:24:11.390138Z",
     "start_time": "2020-06-26T05:24:11.386834Z"
    }
   },
   "outputs": [],
   "source": [
    "from sklearn.preprocessing import MinMaxScaler\n",
    "\n",
    "from sklearn.feature_selection import SelectFromModel, VarianceThreshold, RFE\n",
    "from sklearn.model_selection import train_test_split, RandomizedSearchCV, KFold, cross_val_score, StratifiedKFold, GridSearchCV\n",
    "from sklearn.linear_model import LogisticRegression\n",
    "from sklearn.metrics import f1_score, average_precision_score, precision_score, recall_score, confusion_matrix, precision_recall_curve, roc_curve, roc_auc_score"
   ]
  },
  {
   "cell_type": "code",
   "execution_count": 4,
   "metadata": {
    "ExecuteTime": {
     "end_time": "2020-06-26T05:24:11.408737Z",
     "start_time": "2020-06-26T05:24:11.404180Z"
    }
   },
   "outputs": [],
   "source": [
    "# show several prints in one cell. This will allow us to condence every trick in one cell.\n",
    "from IPython.core.interactiveshell import InteractiveShell\n",
    "InteractiveShell.ast_node_interactivity = \"all\""
   ]
  },
  {
   "cell_type": "code",
   "execution_count": 5,
   "metadata": {
    "ExecuteTime": {
     "end_time": "2020-06-26T05:24:11.873117Z",
     "start_time": "2020-06-26T05:24:11.423446Z"
    }
   },
   "outputs": [],
   "source": [
    "import seaborn as sns\n",
    "sns.set_context(\"poster\")\n",
    "sns.set(rc={'figure.figsize': (16, 9.)})\n",
    "sns.set_style(\"whitegrid\")"
   ]
  },
  {
   "cell_type": "code",
   "execution_count": 6,
   "metadata": {
    "ExecuteTime": {
     "end_time": "2020-06-26T05:24:11.917803Z",
     "start_time": "2020-06-26T05:24:11.882820Z"
    }
   },
   "outputs": [],
   "source": [
    "import sys\n",
    "import logging\n",
    "logging.basicConfig(level=logging.INFO, stream=sys.stdout)\n",
    "\n",
    "%load_ext autoreload\n",
    "%autoreload 2\n",
    "\n",
    "import numpy as np\n",
    "import scipy as sp\n",
    "\n",
    "# ML\n",
    "import sklearn\n",
    "\n",
    "import pandas as pd\n",
    "pd.set_option(\"display.max_rows\", 120)\n",
    "pd.set_option(\"display.max_columns\", 120)\n",
    "\n",
    "#Set the display format to be scientific for ease of analysis\n",
    "# pd.options.display.float_format = '{:,.2g}'.format"
   ]
  },
  {
   "cell_type": "code",
   "execution_count": 7,
   "metadata": {
    "ExecuteTime": {
     "end_time": "2020-06-26T05:24:12.420983Z",
     "start_time": "2020-06-26T05:24:11.985666Z"
    }
   },
   "outputs": [
    {
     "name": "stdout",
     "output_type": "stream",
     "text": [
      "Fri Jun 26 2020 \n",
      "\n",
      "CPython 3.7.6\n",
      "IPython 7.13.0\n",
      "\n",
      "jupyerlab not installed\n",
      "numpy 1.18.1\n",
      "scipy 1.4.1\n",
      "sklearn 0.22.1\n",
      "pandas 1.0.3\n",
      "matplotlib 3.1.3\n",
      "\n",
      "compiler   : Clang 4.0.1 (tags/RELEASE_401/final)\n",
      "system     : Darwin\n",
      "release    : 19.5.0\n",
      "machine    : x86_64\n",
      "processor  : i386\n",
      "CPU cores  : 8\n",
      "interpreter: 64bit\n",
      "host name  : C02X61QTJHD5\n",
      "Git hash   : 76974f1c37147a66bf15e5a686b2b424675dd250\n"
     ]
    }
   ],
   "source": [
    "%load_ext watermark\n",
    "%watermark -v -h -n -g -m -p jupyerlab,numpy,scipy,sklearn,pandas,matplotlib"
   ]
  },
  {
   "cell_type": "code",
   "execution_count": null,
   "metadata": {},
   "outputs": [],
   "source": []
  },
  {
   "cell_type": "code",
   "execution_count": 8,
   "metadata": {
    "ExecuteTime": {
     "end_time": "2020-06-26T05:24:12.532100Z",
     "start_time": "2020-06-26T05:24:12.490197Z"
    }
   },
   "outputs": [
    {
     "data": {
      "text/html": [
       "<div>\n",
       "<style scoped>\n",
       "    .dataframe tbody tr th:only-of-type {\n",
       "        vertical-align: middle;\n",
       "    }\n",
       "\n",
       "    .dataframe tbody tr th {\n",
       "        vertical-align: top;\n",
       "    }\n",
       "\n",
       "    .dataframe thead th {\n",
       "        text-align: right;\n",
       "    }\n",
       "</style>\n",
       "<table border=\"1\" class=\"dataframe\">\n",
       "  <thead>\n",
       "    <tr style=\"text-align: right;\">\n",
       "      <th></th>\n",
       "      <th>id</th>\n",
       "      <th>clumpthickness</th>\n",
       "      <th>uniformityofcellsize</th>\n",
       "      <th>uniformityofcellshape</th>\n",
       "      <th>marginaladhesion</th>\n",
       "      <th>singleepithelialcellsize</th>\n",
       "      <th>barenuclei</th>\n",
       "      <th>blandchromatin</th>\n",
       "      <th>normalnucleoli</th>\n",
       "      <th>mitoses</th>\n",
       "      <th>malignant</th>\n",
       "    </tr>\n",
       "  </thead>\n",
       "  <tbody>\n",
       "    <tr>\n",
       "      <th>0</th>\n",
       "      <td>1241035</td>\n",
       "      <td>7</td>\n",
       "      <td>8.0</td>\n",
       "      <td>3.0</td>\n",
       "      <td>7.0</td>\n",
       "      <td>4.0</td>\n",
       "      <td>5.0</td>\n",
       "      <td>7.0</td>\n",
       "      <td>8.0</td>\n",
       "      <td>2.0</td>\n",
       "      <td>0</td>\n",
       "    </tr>\n",
       "    <tr>\n",
       "      <th>1</th>\n",
       "      <td>1107684</td>\n",
       "      <td>6</td>\n",
       "      <td>10.0</td>\n",
       "      <td>5.0</td>\n",
       "      <td>5.0</td>\n",
       "      <td>4.0</td>\n",
       "      <td>10.0</td>\n",
       "      <td>6.0</td>\n",
       "      <td>10.0</td>\n",
       "      <td>1.0</td>\n",
       "      <td>0</td>\n",
       "    </tr>\n",
       "    <tr>\n",
       "      <th>2</th>\n",
       "      <td>691628</td>\n",
       "      <td>8</td>\n",
       "      <td>6.0</td>\n",
       "      <td>4.0</td>\n",
       "      <td>10.0</td>\n",
       "      <td>10.0</td>\n",
       "      <td>1.0</td>\n",
       "      <td>3.0</td>\n",
       "      <td>5.0</td>\n",
       "      <td>1.0</td>\n",
       "      <td>0</td>\n",
       "    </tr>\n",
       "    <tr>\n",
       "      <th>3</th>\n",
       "      <td>1226612</td>\n",
       "      <td>7</td>\n",
       "      <td>5.0</td>\n",
       "      <td>6.0</td>\n",
       "      <td>3.0</td>\n",
       "      <td>3.0</td>\n",
       "      <td>8.0</td>\n",
       "      <td>7.0</td>\n",
       "      <td>4.0</td>\n",
       "      <td>1.0</td>\n",
       "      <td>0</td>\n",
       "    </tr>\n",
       "    <tr>\n",
       "      <th>4</th>\n",
       "      <td>1142706</td>\n",
       "      <td>5</td>\n",
       "      <td>10.0</td>\n",
       "      <td>10.0</td>\n",
       "      <td>10.0</td>\n",
       "      <td>6.0</td>\n",
       "      <td>10.0</td>\n",
       "      <td>6.0</td>\n",
       "      <td>5.0</td>\n",
       "      <td>2.0</td>\n",
       "      <td>0</td>\n",
       "    </tr>\n",
       "  </tbody>\n",
       "</table>\n",
       "</div>"
      ],
      "text/plain": [
       "        id  clumpthickness  uniformityofcellsize  uniformityofcellshape  \\\n",
       "0  1241035               7                   8.0                    3.0   \n",
       "1  1107684               6                  10.0                    5.0   \n",
       "2   691628               8                   6.0                    4.0   \n",
       "3  1226612               7                   5.0                    6.0   \n",
       "4  1142706               5                  10.0                   10.0   \n",
       "\n",
       "   marginaladhesion  singleepithelialcellsize  barenuclei  blandchromatin  \\\n",
       "0               7.0                       4.0         5.0             7.0   \n",
       "1               5.0                       4.0        10.0             6.0   \n",
       "2              10.0                      10.0         1.0             3.0   \n",
       "3               3.0                       3.0         8.0             7.0   \n",
       "4              10.0                       6.0        10.0             6.0   \n",
       "\n",
       "   normalnucleoli  mitoses  malignant  \n",
       "0             8.0      2.0          0  \n",
       "1            10.0      1.0          0  \n",
       "2             5.0      1.0          0  \n",
       "3             4.0      1.0          0  \n",
       "4             5.0      2.0          0  "
      ]
     },
     "execution_count": 8,
     "metadata": {},
     "output_type": "execute_result"
    }
   ],
   "source": [
    "df = pd.read_csv('../data/cleaned/cancer.csv')\n",
    "df.head()"
   ]
  },
  {
   "cell_type": "code",
   "execution_count": null,
   "metadata": {},
   "outputs": [],
   "source": []
  },
  {
   "cell_type": "code",
   "execution_count": null,
   "metadata": {},
   "outputs": [],
   "source": []
  },
  {
   "cell_type": "markdown",
   "metadata": {},
   "source": [
    "# Analysis/Modeling\n",
    "Univariate feature selection works by selecting the best features based on univariate statistical tests. We compare each feature to the target variable, to see whether there is any statistically significant relationship between them. It is also called analysis of variance (ANOVA). When we analyze the relationship between one feature and the target variable, we ignore the other features. That is why it is called ‘univariate’. Each feature has its test score. \n",
    "\n",
    "https://towardsdatascience.com/feature-selection-using-python-for-classification-problem-b5f00a1c7028\n",
    "\n",
    "(ANOVA) F-test in regression compares fits of different linear models. Unlike t-tests that can assess only one coefficient at a time, F-test can assess multiple coefficients simultaneously"
   ]
  },
  {
   "cell_type": "markdown",
   "metadata": {},
   "source": [
    "https://scikit-learn.org/stable/modules/generated/sklearn.feature_selection.SelectKBest.html"
   ]
  },
  {
   "cell_type": "code",
   "execution_count": 9,
   "metadata": {
    "ExecuteTime": {
     "end_time": "2020-06-26T05:24:13.190641Z",
     "start_time": "2020-06-26T05:24:13.156113Z"
    }
   },
   "outputs": [],
   "source": [
    "\n",
    "X = df.loc[:, df.columns != 'malignant']\n",
    "X = X.loc[:, X.columns != 'id']\n",
    "Y = df['malignant']\n",
    "X_train, X_test, y_train, y_test = train_test_split(X, Y, random_state=0, test_size=0.3)"
   ]
  },
  {
   "cell_type": "markdown",
   "metadata": {},
   "source": [
    "## Chi-2\n",
    "Recall that the chi-square test measures dependence between stochastic variables, so using this function “weeds out” the features that are the most likely to be independent of class and therefore irrelevant for classification."
   ]
  },
  {
   "cell_type": "code",
   "execution_count": 12,
   "metadata": {
    "ExecuteTime": {
     "end_time": "2020-06-26T05:24:38.322927Z",
     "start_time": "2020-06-26T05:24:38.281624Z"
    }
   },
   "outputs": [
    {
     "name": "stdout",
     "output_type": "stream",
     "text": [
      "[ True  True  True  True  True  True  True  True  True]\n"
     ]
    },
    {
     "data": {
      "text/plain": [
       "(array([ 426.5132758 ,  875.70963027,  850.15811637,  723.76181294,\n",
       "         349.43491738, 1141.27872364,  448.14697943,  747.49224266,\n",
       "         187.91219398]),\n",
       " array([9.32782461e-095, 1.87212733e-192, 6.71725014e-187, 2.03546411e-159,\n",
       "        5.62593397e-078, 3.52645628e-250, 1.82551732e-099, 1.40824922e-164,\n",
       "        9.07960444e-043]))"
      ]
     },
     "execution_count": 12,
     "metadata": {},
     "output_type": "execute_result"
    },
    {
     "data": {
      "text/plain": [
       "[('barenuclei', 1141.2787236357278),\n",
       " ('uniformityofcellsize', 875.7096302712066),\n",
       " ('uniformityofcellshape', 850.1581163670111),\n",
       " ('normalnucleoli', 747.4922426570436),\n",
       " ('marginaladhesion', 723.7618129430464),\n",
       " ('blandchromatin', 448.1469794337213),\n",
       " ('clumpthickness', 426.51327580365785),\n",
       " ('singleepithelialcellsize', 349.43491738285917),\n",
       " ('mitoses', 187.9121939836225)]"
      ]
     },
     "execution_count": 12,
     "metadata": {},
     "output_type": "execute_result"
    }
   ],
   "source": [
    "from sklearn.feature_selection import f_classif, SelectKBest, chi2, SelectFpr\n",
    "\n",
    "sel_chi2 = SelectKBest(chi2, k='all')    # select 4 features\n",
    "X_train_chi2 = sel_chi2.fit_transform(X_train, y_train)\n",
    "print(sel_chi2.get_support())\n",
    "sel_chi2.scores_, sel_chi2.pvalues_\n",
    "\n",
    "feature_scores = [(item, score) for item, score in zip(X_train.columns, sel_chi2.scores_)]\n",
    "sorted(feature_scores, key=lambda x: -x[1])[:10]"
   ]
  },
  {
   "cell_type": "markdown",
   "metadata": {},
   "source": [
    "## f test"
   ]
  },
  {
   "cell_type": "code",
   "execution_count": 13,
   "metadata": {
    "ExecuteTime": {
     "end_time": "2020-06-26T05:33:41.195883Z",
     "start_time": "2020-06-26T05:33:41.151804Z"
    }
   },
   "outputs": [
    {
     "name": "stdout",
     "output_type": "stream",
     "text": [
      "[ True  True  True  True  True  True  True  True  True]\n"
     ]
    },
    {
     "data": {
      "text/plain": [
       "(array([491.97126082, 902.13622772, 987.16463411, 532.17906165,\n",
       "        413.50838088, 943.92945152, 647.77823184, 465.74286219,\n",
       "        121.21268502]),\n",
       " array([4.21096757e-074, 2.21221992e-109, 2.49555352e-115, 3.48124558e-078,\n",
       "        1.32602748e-065, 2.37660845e-112, 4.76364380e-089, 2.41642800e-071,\n",
       "        4.10389780e-025]))"
      ]
     },
     "execution_count": 13,
     "metadata": {},
     "output_type": "execute_result"
    },
    {
     "data": {
      "text/plain": [
       "[('uniformityofcellshape', 987.1646341083457),\n",
       " ('barenuclei', 943.929451522722),\n",
       " ('uniformityofcellsize', 902.1362277221252),\n",
       " ('blandchromatin', 647.778231839517),\n",
       " ('marginaladhesion', 532.179061648525),\n",
       " ('clumpthickness', 491.97126081999863),\n",
       " ('normalnucleoli', 465.7428621863493),\n",
       " ('singleepithelialcellsize', 413.5083808804715),\n",
       " ('mitoses', 121.21268502223457)]"
      ]
     },
     "execution_count": 13,
     "metadata": {},
     "output_type": "execute_result"
    }
   ],
   "source": [
    "\n",
    "sel_f = SelectKBest(f_classif, k='all')\n",
    "X_train_f = sel_f.fit_transform(X_train, y_train)\n",
    "print(sel_f.get_support())\n",
    "sel_f.scores_, sel_f.pvalues_\n",
    "\n",
    "\n",
    "feature_scores = [(item, score) for item, score in zip(X_train.columns, sel_f.scores_)]\n",
    "sorted(feature_scores, key=lambda x: -x[1])[:10]"
   ]
  },
  {
   "cell_type": "markdown",
   "metadata": {},
   "source": [
    "2. What features drive your false positive rate for your model you derived above, what features drive your false negative rate? "
   ]
  },
  {
   "cell_type": "code",
   "execution_count": 23,
   "metadata": {
    "ExecuteTime": {
     "end_time": "2020-06-26T05:14:15.473545Z",
     "start_time": "2020-06-26T05:14:15.441817Z"
    }
   },
   "outputs": [
    {
     "data": {
      "text/plain": [
       "(450, 9)"
      ]
     },
     "execution_count": 23,
     "metadata": {},
     "output_type": "execute_result"
    }
   ],
   "source": [
    "X_new = SelectFpr(chi2, alpha=0.01).fit_transform(X_train, y_train)\n",
    "X_new.shape"
   ]
  },
  {
   "cell_type": "code",
   "execution_count": 27,
   "metadata": {
    "ExecuteTime": {
     "end_time": "2020-06-26T05:14:33.230536Z",
     "start_time": "2020-06-26T05:14:33.198540Z"
    }
   },
   "outputs": [
    {
     "data": {
      "text/plain": [
       "(450, 9)"
      ]
     },
     "execution_count": 27,
     "metadata": {},
     "output_type": "execute_result"
    }
   ],
   "source": [
    "X_new = SelectFpr(f_classif, alpha=0.01).fit_transform(X_train, y_train)\n",
    "X_new.shape"
   ]
  },
  {
   "cell_type": "code",
   "execution_count": null,
   "metadata": {},
   "outputs": [],
   "source": []
  },
  {
   "cell_type": "code",
   "execution_count": null,
   "metadata": {},
   "outputs": [],
   "source": []
  },
  {
   "cell_type": "code",
   "execution_count": null,
   "metadata": {},
   "outputs": [],
   "source": []
  },
  {
   "cell_type": "code",
   "execution_count": null,
   "metadata": {},
   "outputs": [],
   "source": []
  },
  {
   "cell_type": "code",
   "execution_count": null,
   "metadata": {},
   "outputs": [],
   "source": []
  },
  {
   "cell_type": "markdown",
   "metadata": {
    "toc": true
   },
   "source": [
    "<h1>Table of Contents<span class=\"tocSkip\"></span></h1>\n",
    "<div class=\"toc\"><ul class=\"toc-item\"><li><span><a href=\"#Introduction\" data-toc-modified-id=\"Introduction-1\"><span class=\"toc-item-num\">1&nbsp;&nbsp;</span>Introduction</a></span><ul class=\"toc-item\"><li><ul class=\"toc-item\"><li><span><a href=\"#Imports\" data-toc-modified-id=\"Imports-1.0.1\"><span class=\"toc-item-num\">1.0.1&nbsp;&nbsp;</span>Imports</a></span></li></ul></li></ul></li><li><span><a href=\"#Analysis/Modeling\" data-toc-modified-id=\"Analysis/Modeling-2\"><span class=\"toc-item-num\">2&nbsp;&nbsp;</span>Analysis/Modeling</a></span><ul class=\"toc-item\"><li><span><a href=\"#Chi-2\" data-toc-modified-id=\"Chi-2-2.1\"><span class=\"toc-item-num\">2.1&nbsp;&nbsp;</span>Chi-2</a></span></li><li><span><a href=\"#f-test\" data-toc-modified-id=\"f-test-2.2\"><span class=\"toc-item-num\">2.2&nbsp;&nbsp;</span>f test</a></span></li></ul></li></ul></div>"
   ]
  },
  {
   "cell_type": "code",
   "execution_count": null,
   "metadata": {},
   "outputs": [],
   "source": []
  }
 ],
 "metadata": {
  "hide_input": false,
  "kernelspec": {
   "display_name": "Python 3",
   "language": "python",
   "name": "python3"
  },
  "language_info": {
   "codemirror_mode": {
    "name": "ipython",
    "version": 3
   },
   "file_extension": ".py",
   "mimetype": "text/x-python",
   "name": "python",
   "nbconvert_exporter": "python",
   "pygments_lexer": "ipython3",
   "version": "3.7.6"
  },
  "toc": {
   "base_numbering": 1,
   "nav_menu": {},
   "number_sections": true,
   "sideBar": true,
   "skip_h1_title": false,
   "title_cell": "Table of Contents",
   "title_sidebar": "Contents",
   "toc_cell": true,
   "toc_position": {},
   "toc_section_display": true,
   "toc_window_display": false
  },
  "varInspector": {
   "cols": {
    "lenName": 16,
    "lenType": 16,
    "lenVar": 40
   },
   "kernels_config": {
    "python": {
     "delete_cmd_postfix": "",
     "delete_cmd_prefix": "del ",
     "library": "var_list.py",
     "varRefreshCmd": "print(var_dic_list())"
    },
    "r": {
     "delete_cmd_postfix": ") ",
     "delete_cmd_prefix": "rm(",
     "library": "var_list.r",
     "varRefreshCmd": "cat(var_dic_list()) "
    }
   },
   "types_to_exclude": [
    "module",
    "function",
    "builtin_function_or_method",
    "instance",
    "_Feature"
   ],
   "window_display": false
  }
 },
 "nbformat": 4,
 "nbformat_minor": 4
}
